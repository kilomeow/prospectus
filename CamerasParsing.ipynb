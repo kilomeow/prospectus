{
 "cells": [
  {
   "cell_type": "code",
   "execution_count": 2,
   "id": "92e752bc",
   "metadata": {},
   "outputs": [],
   "source": [
    "import pandas as pd\n",
    "import os"
   ]
  },
  {
   "cell_type": "code",
   "execution_count": 3,
   "id": "651572ec",
   "metadata": {},
   "outputs": [],
   "source": [
    "datafns = list(filter(lambda s: s.startswith('data'), os.listdir()))"
   ]
  },
  {
   "cell_type": "code",
   "execution_count": 4,
   "id": "b13032b0",
   "metadata": {
    "scrolled": true
   },
   "outputs": [
    {
     "data": {
      "text/plain": [
       "['data-8174-2022-05-11.json',\n",
       " 'data-49169-2022-05-12.json',\n",
       " 'data-8180-2022-05-17.json']"
      ]
     },
     "execution_count": 4,
     "metadata": {},
     "output_type": "execute_result"
    }
   ],
   "source": [
    "datafns"
   ]
  },
  {
   "cell_type": "code",
   "execution_count": 5,
   "id": "fcaf343f",
   "metadata": {},
   "outputs": [],
   "source": [
    "def read_decode(fn):\n",
    "    with open(fn, encoding='cp1251') as f:\n",
    "        return f.read()"
   ]
  },
  {
   "cell_type": "code",
   "execution_count": 6,
   "id": "06160c77",
   "metadata": {},
   "outputs": [],
   "source": [
    "df = pd.read_json(read_decode('data-49169-2022-05-12.json'))"
   ]
  },
  {
   "cell_type": "code",
   "execution_count": 7,
   "id": "ff54e359",
   "metadata": {},
   "outputs": [],
   "source": [
    "import geojson"
   ]
  },
  {
   "cell_type": "code",
   "execution_count": 8,
   "id": "d47c48dc",
   "metadata": {},
   "outputs": [
    {
     "data": {
      "text/plain": [
       "geojson.geometry.Point"
      ]
     },
     "execution_count": 8,
     "metadata": {},
     "output_type": "execute_result"
    }
   ],
   "source": [
    "geojson.Point"
   ]
  },
  {
   "cell_type": "code",
   "execution_count": 9,
   "id": "1a02efe4",
   "metadata": {},
   "outputs": [],
   "source": [
    "df['point'] = df['geoData'].map(lambda p: geojson.Point(tuple(p['coordinates'])))"
   ]
  },
  {
   "cell_type": "code",
   "execution_count": 10,
   "id": "0c1eeda1",
   "metadata": {},
   "outputs": [],
   "source": [
    "df['features'] = df.apply(lambda d: geojson.Feature(geometry=d['point'], properties=d.to_dict()), axis=1)"
   ]
  },
  {
   "cell_type": "code",
   "execution_count": 25,
   "id": "7fd8c8ab",
   "metadata": {},
   "outputs": [],
   "source": [
    "fc = geojson.FeatureCollection(list(df['features'].iteritems()))"
   ]
  },
  {
   "cell_type": "code",
   "execution_count": 28,
   "id": "4729ce86",
   "metadata": {},
   "outputs": [],
   "source": [
    "with open('podezd.geojson', 'w') as output:\n",
    "    output.write(geojson.dumps(fc, ensure_ascii=False, indent=2))"
   ]
  },
  {
   "cell_type": "code",
   "execution_count": null,
   "id": "9efc5422",
   "metadata": {},
   "outputs": [],
   "source": []
  }
 ],
 "metadata": {
  "kernelspec": {
   "display_name": "Python 3",
   "language": "python",
   "name": "python3"
  },
  "language_info": {
   "codemirror_mode": {
    "name": "ipython",
    "version": 3
   },
   "file_extension": ".py",
   "mimetype": "text/x-python",
   "name": "python",
   "nbconvert_exporter": "python",
   "pygments_lexer": "ipython3",
   "version": "3.9.1"
  }
 },
 "nbformat": 4,
 "nbformat_minor": 5
}
