{
 "cells": [
  {
   "cell_type": "code",
   "execution_count": 53,
   "id": "92e752bc",
   "metadata": {},
   "outputs": [],
   "source": [
    "import pandas as pd\n",
    "import os"
   ]
  },
  {
   "cell_type": "code",
   "execution_count": 54,
   "id": "651572ec",
   "metadata": {},
   "outputs": [
    {
     "data": {
      "text/plain": [
       "['data-8180-2022-05-17.json',\n",
       " 'data-8174-2022-05-11.json',\n",
       " 'data-49169-2022-05-12.json']"
      ]
     },
     "execution_count": 54,
     "metadata": {},
     "output_type": "execute_result"
    }
   ],
   "source": [
    "files = list(filter(lambda s: s.startswith('data'), os.listdir()))\n",
    "files"
   ]
  },
  {
   "cell_type": "code",
   "execution_count": 55,
   "id": "fcaf343f",
   "metadata": {},
   "outputs": [],
   "source": [
    "def read_decode(fn):\n",
    "    with open(fn, encoding='cp1251') as f:\n",
    "        return f.read()"
   ]
  },
  {
   "cell_type": "code",
   "execution_count": 56,
   "id": "06160c77",
   "metadata": {},
   "outputs": [],
   "source": [
    "df = pd.concat([pd.read_json(read_decode(file)) for file in files])"
   ]
  },
  {
   "cell_type": "code",
   "execution_count": 57,
   "id": "ff54e359",
   "metadata": {},
   "outputs": [],
   "source": [
    "#!pip install geojson\n",
    "import json\n",
    "import geojson"
   ]
  },
  {
   "cell_type": "code",
   "execution_count": 58,
   "id": "1a02efe4",
   "metadata": {},
   "outputs": [],
   "source": [
    "df['point'] = df['geoData'].map(lambda p: geojson.Point(tuple(p['coordinates'])))"
   ]
  },
  {
   "cell_type": "code",
   "execution_count": 59,
   "id": "b6af1bd5-f4ae-4f66-bfb0-1337439e1c88",
   "metadata": {},
   "outputs": [],
   "source": [
    "df['features'] = df.apply(lambda d: geojson.Feature(geometry=d['point'], properties={'District': d['District']}), axis=1)"
   ]
  },
  {
   "cell_type": "code",
   "execution_count": 60,
   "id": "7fd8c8ab",
   "metadata": {},
   "outputs": [],
   "source": [
    "fc = geojson.FeatureCollection(list(df['features']))\n",
    "with open('features.geojson', 'w') as output:\n",
    "    output.write(geojson.dumps(fc, ensure_ascii=False, indent=2))"
   ]
  },
  {
   "cell_type": "code",
   "execution_count": 61,
   "id": "9efc5422",
   "metadata": {},
   "outputs": [],
   "source": [
    "districts = sorted(df['District'].unique())\n",
    "with open('districts.json', 'w') as output:\n",
    "    output.write(json.dumps(districts, ensure_ascii=False, indent=2))"
   ]
  },
  {
   "cell_type": "code",
   "execution_count": null,
   "id": "2090efbb-297d-40f5-bd35-07aec7119e0a",
   "metadata": {},
   "outputs": [],
   "source": []
  }
 ],
 "metadata": {
  "kernelspec": {
   "display_name": "Python 3 (ipykernel)",
   "language": "python",
   "name": "python3"
  },
  "language_info": {
   "codemirror_mode": {
    "name": "ipython",
    "version": 3
   },
   "file_extension": ".py",
   "mimetype": "text/x-python",
   "name": "python",
   "nbconvert_exporter": "python",
   "pygments_lexer": "ipython3",
   "version": "3.8.10"
  }
 },
 "nbformat": 4,
 "nbformat_minor": 5
}
